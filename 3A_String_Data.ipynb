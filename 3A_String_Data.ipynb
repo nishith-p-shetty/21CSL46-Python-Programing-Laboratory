{
 "cells": [
  {
   "cell_type": "markdown",
   "id": "4e0a9f74-3d95-4768-ab1f-f093b84984ad",
   "metadata": {},
   "source": [
    "# Write a Python program that accepts a sentence and find the number of words, digits, uppercase letters and lowercase letters."
   ]
  },
  {
   "cell_type": "code",
   "execution_count": 3,
   "id": "0000e1f8-20a1-4d59-9cd6-358340795f8f",
   "metadata": {
    "tags": []
   },
   "outputs": [
    {
     "name": "stdin",
     "output_type": "stream",
     "text": [
      "Enter a sentence :  Welcome to MYSURU ZOO M007\n"
     ]
    },
    {
     "name": "stdout",
     "output_type": "stream",
     "text": [
      "This sentence has 5 words\n",
      "This sentence has 3 digits\n",
      "11 upper case letter\n",
      "8 lower case letter\n"
     ]
    }
   ],
   "source": [
    "sentence = input(\"Enter a sentence : \")\n",
    "word_list = sentence.split()\n",
    "print(f\"This sentence has { len(word_list) } words\")\n",
    "digit_count = upcase_count = lowcase_count = 0\n",
    "for ch in sentence:\n",
    "    if (ch >= '0' and ch <= '9'):\n",
    "        digit_count += 1\n",
    "    elif (ch >= 'A' and ch <= 'Z'):\n",
    "        upcase_count += 1\n",
    "    elif (ch >= 'a' and ch <= 'z'):\n",
    "        lowcase_count += 1\n",
    "print(f\"This sentence has { digit_count } digits\")\n",
    "print(f\"{ upcase_count } upper case letter\")\n",
    "print(f\"{ lowcase_count } lower case letter\")"
   ]
  }
 ],
 "metadata": {
  "kernelspec": {
   "display_name": "Python 3 (ipykernel)",
   "language": "python",
   "name": "python3"
  },
  "language_info": {
   "codemirror_mode": {
    "name": "ipython",
    "version": 3
   },
   "file_extension": ".py",
   "mimetype": "text/x-python",
   "name": "python",
   "nbconvert_exporter": "python",
   "pygments_lexer": "ipython3",
   "version": "3.11.2"
  }
 },
 "nbformat": 4,
 "nbformat_minor": 5
}
