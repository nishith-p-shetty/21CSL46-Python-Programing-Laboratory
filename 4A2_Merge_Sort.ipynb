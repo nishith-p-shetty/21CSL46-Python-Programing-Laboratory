{
 "cells": [
  {
   "cell_type": "markdown",
   "metadata": {},
   "source": [
    "# Write a python program to implement merge sort using lists"
   ]
  },
  {
   "cell_type": "code",
   "execution_count": 1,
   "metadata": {},
   "outputs": [
    {
     "name": "stdout",
     "output_type": "stream",
     "text": [
      "Given list : [12, 11, 13, 15, 6, 7]\n"
     ]
    },
    {
     "ename": "RecursionError",
     "evalue": "maximum recursion depth exceeded",
     "output_type": "error",
     "traceback": [
      "\u001b[0;31m---------------------------------------------------------------------------\u001b[0m",
      "\u001b[0;31mRecursionError\u001b[0m                            Traceback (most recent call last)",
      "Cell \u001b[0;32mIn[1], line 36\u001b[0m\n\u001b[1;32m     34\u001b[0m n \u001b[39m=\u001b[39m \u001b[39mlen\u001b[39m(arr)\n\u001b[1;32m     35\u001b[0m \u001b[39mprint\u001b[39m(\u001b[39mf\u001b[39m\u001b[39m\"\u001b[39m\u001b[39mGiven list : \u001b[39m\u001b[39m{\u001b[39;00marr\u001b[39m}\u001b[39;00m\u001b[39m\"\u001b[39m)\n\u001b[0;32m---> 36\u001b[0m merge_sort(arr, \u001b[39m0\u001b[39;49m, n\u001b[39m-\u001b[39;49m\u001b[39m1\u001b[39;49m)\n\u001b[1;32m     37\u001b[0m \u001b[39mprint\u001b[39m(\u001b[39mf\u001b[39m\u001b[39m\"\u001b[39m\u001b[39mSorted list is : \u001b[39m\u001b[39m{\u001b[39;00marr\u001b[39m}\u001b[39;00m\u001b[39m\"\u001b[39m)\n",
      "Cell \u001b[0;32mIn[1], line 30\u001b[0m, in \u001b[0;36mmerge_sort\u001b[0;34m(arr, l, r)\u001b[0m\n\u001b[1;32m     28\u001b[0m m \u001b[39m=\u001b[39m l \u001b[39m+\u001b[39m (r\u001b[39m-\u001b[39m\u001b[39m1\u001b[39m) \u001b[39m/\u001b[39m\u001b[39m/\u001b[39m \u001b[39m2\u001b[39m\n\u001b[1;32m     29\u001b[0m merge_sort(arr, l, m)\n\u001b[0;32m---> 30\u001b[0m merge_sort(arr, m\u001b[39m+\u001b[39;49m\u001b[39m1\u001b[39;49m, r)\n\u001b[1;32m     31\u001b[0m merge(arr, l, m, r)\n",
      "Cell \u001b[0;32mIn[1], line 29\u001b[0m, in \u001b[0;36mmerge_sort\u001b[0;34m(arr, l, r)\u001b[0m\n\u001b[1;32m     27\u001b[0m \u001b[39mif\u001b[39;00m l \u001b[39m<\u001b[39m r:\n\u001b[1;32m     28\u001b[0m     m \u001b[39m=\u001b[39m l \u001b[39m+\u001b[39m (r\u001b[39m-\u001b[39m\u001b[39m1\u001b[39m) \u001b[39m/\u001b[39m\u001b[39m/\u001b[39m \u001b[39m2\u001b[39m\n\u001b[0;32m---> 29\u001b[0m     merge_sort(arr, l, m)\n\u001b[1;32m     30\u001b[0m     merge_sort(arr, m\u001b[39m+\u001b[39m\u001b[39m1\u001b[39m, r)\n\u001b[1;32m     31\u001b[0m     merge(arr, l, m, r)\n",
      "Cell \u001b[0;32mIn[1], line 29\u001b[0m, in \u001b[0;36mmerge_sort\u001b[0;34m(arr, l, r)\u001b[0m\n\u001b[1;32m     27\u001b[0m \u001b[39mif\u001b[39;00m l \u001b[39m<\u001b[39m r:\n\u001b[1;32m     28\u001b[0m     m \u001b[39m=\u001b[39m l \u001b[39m+\u001b[39m (r\u001b[39m-\u001b[39m\u001b[39m1\u001b[39m) \u001b[39m/\u001b[39m\u001b[39m/\u001b[39m \u001b[39m2\u001b[39m\n\u001b[0;32m---> 29\u001b[0m     merge_sort(arr, l, m)\n\u001b[1;32m     30\u001b[0m     merge_sort(arr, m\u001b[39m+\u001b[39m\u001b[39m1\u001b[39m, r)\n\u001b[1;32m     31\u001b[0m     merge(arr, l, m, r)\n",
      "    \u001b[0;31m[... skipping similar frames: merge_sort at line 29 (2970 times)]\u001b[0m\n",
      "Cell \u001b[0;32mIn[1], line 29\u001b[0m, in \u001b[0;36mmerge_sort\u001b[0;34m(arr, l, r)\u001b[0m\n\u001b[1;32m     27\u001b[0m \u001b[39mif\u001b[39;00m l \u001b[39m<\u001b[39m r:\n\u001b[1;32m     28\u001b[0m     m \u001b[39m=\u001b[39m l \u001b[39m+\u001b[39m (r\u001b[39m-\u001b[39m\u001b[39m1\u001b[39m) \u001b[39m/\u001b[39m\u001b[39m/\u001b[39m \u001b[39m2\u001b[39m\n\u001b[0;32m---> 29\u001b[0m     merge_sort(arr, l, m)\n\u001b[1;32m     30\u001b[0m     merge_sort(arr, m\u001b[39m+\u001b[39m\u001b[39m1\u001b[39m, r)\n\u001b[1;32m     31\u001b[0m     merge(arr, l, m, r)\n",
      "\u001b[0;31mRecursionError\u001b[0m: maximum recursion depth exceeded"
     ]
    }
   ],
   "source": [
    "def merge(arr, l, m, r):\n",
    "    n1 = m - l + 1\n",
    "    n2 = r - m\n",
    "    L = [0] * (n1)\n",
    "    R = [0] * (n2)\n",
    "    for i in range(0, n1):\n",
    "        L[i] = arr[1+i]\n",
    "    for j in range(0, n2):\n",
    "        R[j] = arr[(m+1)+j]\n",
    "    i = 0\n",
    "    j = 0\n",
    "    k = 1\n",
    "    while ((i < n1) and (j < n2)):\n",
    "        if (L[i] <= R[j]):\n",
    "            arr[k] = L[i];\n",
    "            i += 1;\n",
    "        else:\n",
    "            arr[k] = R[j];\n",
    "            j += 1;\n",
    "    k += 1\n",
    "    while j < n2:\n",
    "        arr[k] = R[j]\n",
    "        j += 1\n",
    "        k += 1\n",
    "\n",
    "def merge_sort(arr, l, r):\n",
    "    if l < r:\n",
    "        m = l + (r-1) // 2\n",
    "        merge_sort(arr, l, m)\n",
    "        merge_sort(arr, m+1, r)\n",
    "        merge(arr, l, m, r)\n",
    "\n",
    "arr = [12, 11, 13, 15, 6, 7]\n",
    "n = len(arr)\n",
    "print(f\"Given list : {arr}\")\n",
    "merge_sort(arr, 0, n-1)\n",
    "print(f\"Sorted list is : {arr}\")"
   ]
  }
 ],
 "metadata": {
  "kernelspec": {
   "display_name": "Python 3 (ipykernel)",
   "language": "python",
   "name": "python3"
  },
  "language_info": {
   "codemirror_mode": {
    "name": "ipython",
    "version": 3
   },
   "file_extension": ".py",
   "mimetype": "text/x-python",
   "name": "python",
   "nbconvert_exporter": "python",
   "pygments_lexer": "ipython3",
   "version": "3.11.2"
  },
  "orig_nbformat": 4
 },
 "nbformat": 4,
 "nbformat_minor": 2
}
