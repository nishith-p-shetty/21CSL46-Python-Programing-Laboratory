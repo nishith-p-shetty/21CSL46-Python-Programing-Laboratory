{
 "cells": [
  {
   "cell_type": "markdown",
   "id": "8de0c799-d156-4921-b46b-2671768ef2b2",
   "metadata": {},
   "source": [
    "# Write a python program to add all the number which are divisible by 5 for a given limit"
   ]
  },
  {
   "cell_type": "code",
   "execution_count": 1,
   "id": "2c93b28e-c0df-4b71-86af-a87de93e7d76",
   "metadata": {
    "tags": []
   },
   "outputs": [
    {
     "name": "stdin",
     "output_type": "stream",
     "text": [
      "Enter a number :  55\n"
     ]
    },
    {
     "name": "stdout",
     "output_type": "stream",
     "text": [
      "Sum of multiples of 5 upto 55 is : 330\n"
     ]
    }
   ],
   "source": [
    "n = int(input('Enter a number : '))\n",
    "\n",
    "sum = 0\n",
    "\n",
    "for i in range(5, n+1):\n",
    "    if ( (i % 5) == 0 ):\n",
    "        sum += i\n",
    "\n",
    "print(f'Sum of multiples of 5 upto {n} is : {sum}')"
   ]
  }
 ],
 "metadata": {
  "kernelspec": {
   "display_name": "Python 3 (ipykernel)",
   "language": "python",
   "name": "python3"
  },
  "language_info": {
   "codemirror_mode": {
    "name": "ipython",
    "version": 3
   },
   "file_extension": ".py",
   "mimetype": "text/x-python",
   "name": "python",
   "nbconvert_exporter": "python",
   "pygments_lexer": "ipython3",
   "version": "3.11.2"
  }
 },
 "nbformat": 4,
 "nbformat_minor": 5
}
