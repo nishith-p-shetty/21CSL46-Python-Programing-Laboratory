{
 "cells": [
  {
   "cell_type": "markdown",
   "id": "9411b6a0-29a3-417b-ac6d-61e6c35a40c6",
   "metadata": {},
   "source": [
    "# Write a program to find the area of square, rectangle, circle"
   ]
  },
  {
   "cell_type": "code",
   "execution_count": 1,
   "id": "40d9bcd6-2682-42b2-ba0b-9566f84c7fab",
   "metadata": {
    "tags": []
   },
   "outputs": [
    {
     "name": "stdin",
     "output_type": "stream",
     "text": [
      "Enter the value of side of square :  5\n"
     ]
    },
    {
     "name": "stdout",
     "output_type": "stream",
     "text": [
      "Area of square is 25\n"
     ]
    },
    {
     "name": "stdin",
     "output_type": "stream",
     "text": [
      "Enter the value of length of rectangle :  4\n",
      "Enter the value of bredth of rectangle :  3\n"
     ]
    },
    {
     "name": "stdout",
     "output_type": "stream",
     "text": [
      "Area of rectangle is 12\n"
     ]
    },
    {
     "name": "stdin",
     "output_type": "stream",
     "text": [
      "Enter the value of radius of circle :  3\n"
     ]
    },
    {
     "name": "stdout",
     "output_type": "stream",
     "text": [
      "Area of square is 28.259999999999998\n"
     ]
    }
   ],
   "source": [
    "side = int(input('Enter the value of side of square : '))\n",
    "asqr = side * side\n",
    "print(f'Area of square is {asqr}')\n",
    "\n",
    "length = int(input('Enter the value of length of rectangle : '))\n",
    "bredth = int(input('Enter the value of bredth of rectangle : '))\n",
    "arec = length * bredth\n",
    "print(f'Area of rectangle is {arec}')\n",
    "\n",
    "r = int(input('Enter the value of radius of circle : '))\n",
    "acir = 3.14 * r * r\n",
    "print(f'Area of square is {acir}')"
   ]
  }
 ],
 "metadata": {
  "kernelspec": {
   "display_name": "Python 3 (ipykernel)",
   "language": "python",
   "name": "python3"
  },
  "language_info": {
   "codemirror_mode": {
    "name": "ipython",
    "version": 3
   },
   "file_extension": ".py",
   "mimetype": "text/x-python",
   "name": "python",
   "nbconvert_exporter": "python",
   "pygments_lexer": "ipython3",
   "version": "3.11.2"
  }
 },
 "nbformat": 4,
 "nbformat_minor": 5
}
