{
 "cells": [
  {
   "cell_type": "markdown",
   "id": "006ac66e-64e6-4878-a7e8-7321b0f8db66",
   "metadata": {},
   "source": [
    "# Write a program to check wheather the given no is odd of even, positive or negative"
   ]
  },
  {
   "cell_type": "code",
   "execution_count": 4,
   "id": "e9ac2605-70a8-4895-96ef-866360068818",
   "metadata": {
    "tags": []
   },
   "outputs": [
    {
     "name": "stdin",
     "output_type": "stream",
     "text": [
      "Enter a number :  -10\n"
     ]
    },
    {
     "name": "stdout",
     "output_type": "stream",
     "text": [
      "-10 is even\n",
      "-10 is negative\n"
     ]
    }
   ],
   "source": [
    "n = int(input('Enter a number : '))\n",
    "\n",
    "if ( (n % 2) == 0 ):\n",
    "    print(f'{n} is even')\n",
    "else:\n",
    "    print(f'{n} is odd')\n",
    "    \n",
    "if ( n > 0 ):\n",
    "    print(f'{n} is positive')\n",
    "else:\n",
    "    print(f'{n} is negative')"
   ]
  }
 ],
 "metadata": {
  "kernelspec": {
   "display_name": "Python 3 (ipykernel)",
   "language": "python",
   "name": "python3"
  },
  "language_info": {
   "codemirror_mode": {
    "name": "ipython",
    "version": 3
   },
   "file_extension": ".py",
   "mimetype": "text/x-python",
   "name": "python",
   "nbconvert_exporter": "python",
   "pygments_lexer": "ipython3",
   "version": "3.11.2"
  }
 },
 "nbformat": 4,
 "nbformat_minor": 5
}
