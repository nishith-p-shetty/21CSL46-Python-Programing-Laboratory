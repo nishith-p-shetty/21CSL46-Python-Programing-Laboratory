{
 "cells": [
  {
   "cell_type": "markdown",
   "id": "aaaaf20d-9ae7-432f-a208-f3196d13946f",
   "metadata": {},
   "source": [
    "# Write a program to find the largest of 3 numbers"
   ]
  },
  {
   "cell_type": "code",
   "execution_count": 7,
   "id": "c383cdbf-21c1-4aff-8575-9ee7fd3d6642",
   "metadata": {
    "tags": []
   },
   "outputs": [
    {
     "name": "stdin",
     "output_type": "stream",
     "text": [
      "Enter the number :  10\n",
      "Enter the number :  30\n",
      "Enter the number :  20\n"
     ]
    },
    {
     "name": "stdout",
     "output_type": "stream",
     "text": [
      "30 is greater\n"
     ]
    }
   ],
   "source": [
    "a = int(input('Enter the number : '))\n",
    "b = int(input('Enter the number : '))\n",
    "c = int(input('Enter the number : '))\n",
    "\n",
    "if ( (a > b) & (a > c) ):\n",
    "    print(f'{a} is greater')\n",
    "    \n",
    "elif ( (b > a) & (b > c) ):\n",
    "    print(f'{b} is greater')\n",
    "    \n",
    "else:\n",
    "    print(f'{c} is greater')"
   ]
  }
 ],
 "metadata": {
  "kernelspec": {
   "display_name": "Python 3 (ipykernel)",
   "language": "python",
   "name": "python3"
  },
  "language_info": {
   "codemirror_mode": {
    "name": "ipython",
    "version": 3
   },
   "file_extension": ".py",
   "mimetype": "text/x-python",
   "name": "python",
   "nbconvert_exporter": "python",
   "pygments_lexer": "ipython3",
   "version": "3.11.2"
  }
 },
 "nbformat": 4,
 "nbformat_minor": 5
}
