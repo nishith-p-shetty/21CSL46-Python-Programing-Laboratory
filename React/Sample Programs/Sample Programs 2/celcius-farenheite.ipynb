{
 "cells": [
  {
   "cell_type": "markdown",
   "id": "a6602c1a-5232-44dd-ae36-705a979f7e68",
   "metadata": {},
   "source": [
    "# Write a program to convert celcius to faranheite or vice versa"
   ]
  },
  {
   "cell_type": "code",
   "execution_count": 1,
   "id": "54b2ac92-98a2-477d-b311-f033ea992c8b",
   "metadata": {
    "tags": []
   },
   "outputs": [
    {
     "name": "stdin",
     "output_type": "stream",
     "text": [
      "Enter the value in celcius :  9\n"
     ]
    },
    {
     "name": "stdout",
     "output_type": "stream",
     "text": [
      "9 °c is equivalent to 48.2 °f\n"
     ]
    },
    {
     "name": "stdin",
     "output_type": "stream",
     "text": [
      "Enter the value in farenheite :  45\n"
     ]
    },
    {
     "name": "stdout",
     "output_type": "stream",
     "text": [
      "45 °f is equivalent to 7.15 °c\n"
     ]
    }
   ],
   "source": [
    "celcius = int(input('Enter the value in celcius : '))\n",
    "fanenheite = (celcius * 1.8) + 32\n",
    "print(f'{celcius} °c is equivalent to {fanenheite} °f')\n",
    "\n",
    "farenheite = int(input('Enter the value in farenheite : '))\n",
    "celcius = (farenheite - 32) * 0.55\n",
    "print(f'{farenheite} °f is equivalent to {celcius} °c')"
   ]
  }
 ],
 "metadata": {
  "kernelspec": {
   "display_name": "Python 3 (ipykernel)",
   "language": "python",
   "name": "python3"
  },
  "language_info": {
   "codemirror_mode": {
    "name": "ipython",
    "version": 3
   },
   "file_extension": ".py",
   "mimetype": "text/x-python",
   "name": "python",
   "nbconvert_exporter": "python",
   "pygments_lexer": "ipython3",
   "version": "3.11.2"
  }
 },
 "nbformat": 4,
 "nbformat_minor": 5
}
