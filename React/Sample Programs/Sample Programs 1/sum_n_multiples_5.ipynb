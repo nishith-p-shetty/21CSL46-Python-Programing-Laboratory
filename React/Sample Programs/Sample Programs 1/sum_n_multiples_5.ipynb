{
 "cells": [
  {
   "cell_type": "markdown",
   "id": "9ca0e0b6-f0e9-4029-abc2-1618247a7c8b",
   "metadata": {},
   "source": [
    "# Write a program to find the sum of multiples of 5 upto n natural numbers"
   ]
  },
  {
   "cell_type": "code",
   "execution_count": 4,
   "id": "72b21e43-db0e-4c60-ae5f-54cc51eed7c3",
   "metadata": {
    "tags": []
   },
   "outputs": [
    {
     "name": "stdin",
     "output_type": "stream",
     "text": [
      "Enter a number :  35\n"
     ]
    },
    {
     "name": "stdout",
     "output_type": "stream",
     "text": [
      "Sum of multiples of 5 upto 35 is : 140\n"
     ]
    }
   ],
   "source": [
    "n = int(input('Enter a number : '))\n",
    "\n",
    "sum = 0\n",
    "\n",
    "for i in range(5, n+1):\n",
    "    if ( (i % 5) == 0 ):\n",
    "        sum += i\n",
    "\n",
    "print(f'Sum of multiples of 5 upto {n} is : {sum}')"
   ]
  }
 ],
 "metadata": {
  "kernelspec": {
   "display_name": "Python 3 (ipykernel)",
   "language": "python",
   "name": "python3"
  },
  "language_info": {
   "codemirror_mode": {
    "name": "ipython",
    "version": 3
   },
   "file_extension": ".py",
   "mimetype": "text/x-python",
   "name": "python",
   "nbconvert_exporter": "python",
   "pygments_lexer": "ipython3",
   "version": "3.11.2"
  }
 },
 "nbformat": 4,
 "nbformat_minor": 5
}
