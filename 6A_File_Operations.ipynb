{
 "cells": [
  {
   "cell_type": "markdown",
   "metadata": {},
   "source": [
    "# Write a python program to accept a file name from the user and perform the following operations\n",
    "1. Display the first N line of the file\n",
    "2. Find the frequency of occurrence of the word accepted from the user in the file"
   ]
  },
  {
   "cell_type": "code",
   "execution_count": 10,
   "metadata": {
    "tags": []
   },
   "outputs": [
    {
     "name": "stdin",
     "output_type": "stream",
     "text": [
      "Enter the filename :  test.txt\n"
     ]
    },
    {
     "name": "stdout",
     "output_type": "stream",
     "text": [
      "1 : this is phone number +918151894220\n",
      "\n",
      "2 : no phone number here\n",
      "\n",
      "3 : here we have one +829392938876\n",
      "\n",
      "4 : we have an email prakash81.82@gmail.in and a number +918768456234 \n",
      "\n",
      "5 : nothing of that sort here\n",
      "\n",
      "6 : Better hope the life-inspector doesn't come around while you have your\n",
      "\n",
      "7 : life in such a mess.\n",
      "\n",
      "8 : You can create your own opportunities this week.  Blackmail a senior executive.\n",
      "\n",
      "9 : Be different: conform.\n",
      "\n",
      "10 : Be cheerful while you are alive.\n",
      "\n",
      "11 : \t    -- Phathotep, 24th Century B.C.\n",
      "\n",
      "12 : Q: How many journalists does it take to screw in a light bulb?\n",
      "\n",
      "13 : A: Three.  One to report it as an inspired government program to bring\n",
      "\n",
      "14 :    light to the people, one to report it as a diabolical government plot\n",
      "\n",
      "15 :    to deprive the poor of darkness, and one to win a Pulitzer prize for\n",
      "\n",
      "16 :    reporting that Electric Company hired a light bulb-assassin to break\n",
      "\n",
      "17 :    the bulb in the first place.\n",
      "\n",
      "18 : Q: Why did the astrophysicist order three hamburgers?\n",
      "\n",
      "19 : A: Because he was hungry.\n",
      "\n",
      "20 : Q: Why haven't you graduated yet?\n"
     ]
    },
    {
     "name": "stdin",
     "output_type": "stream",
     "text": [
      "Enter a word :  the\n"
     ]
    },
    {
     "name": "stdout",
     "output_type": "stream",
     "text": [
      "The word the appears 6 times in the file\n"
     ]
    }
   ],
   "source": [
    "\"\"\"\n",
    "test.txt file\n",
    "this is phone number +918151894220\n",
    "no phone number here\n",
    "here we have one +829392938876\n",
    "we have an email prakash81.82@gmail.in and a number +918768456234 \n",
    "nothing of that sort here\n",
    "Better hope the life-inspector doesn't come around while you have your\n",
    "life in such a mess.\n",
    "You can create your own opportunities this week.  Blackmail a senior executive.\n",
    "Be different: conform.\n",
    "Be cheerful while you are alive.\n",
    "\t    -- Phathotep, 24th Century B.C.\n",
    "Q: How many journalists does it take to screw in a light bulb?\n",
    "A: Three.  One to report it as an inspired government program to bring\n",
    "   light to the people, one to report it as a diabolical government plot\n",
    "   to deprive the poor of darkness, and one to win a Pulitzer prize for\n",
    "   reporting that Electric Company hired a light bulb-assassin to break\n",
    "   the bulb in the first place.\n",
    "Q: Why did the astrophysicist order three hamburgers?\n",
    "A: Because he was hungry.\n",
    "Q: Why haven't you graduated yet?\n",
    "\"\"\"\n",
    "\n",
    "\n",
    "import os.path\n",
    "import sys\n",
    "\n",
    "fname = input(\"Enter the filename : \")      \n",
    "\n",
    "if not os.path.isfile(fname):\n",
    "    print(\"File\", fname, \"doesn't exists\")\n",
    "    sys.exit(0)\n",
    "\n",
    "infile = open(fname, \"r\")\n",
    "\n",
    "lineList = infile.readlines()\n",
    "\n",
    "for i in range(len(lineList)):\n",
    "    print(i+1, \":\", lineList[i])\n",
    "    \n",
    "word = input(\"Enter a word : \")\n",
    "cnt = 0\n",
    "for line in lineList:\n",
    "    cnt += line.count(word)\n",
    "\n",
    "print(\"The word\", word, \"appears\", cnt, \"times in the file\")"
   ]
  }
 ],
 "metadata": {
  "kernelspec": {
   "display_name": "Python 3 (ipykernel)",
   "language": "python",
   "name": "python3"
  },
  "language_info": {
   "codemirror_mode": {
    "name": "ipython",
    "version": 3
   },
   "file_extension": ".py",
   "mimetype": "text/x-python",
   "name": "python",
   "nbconvert_exporter": "python",
   "pygments_lexer": "ipython3",
   "version": "3.11.2"
  }
 },
 "nbformat": 4,
 "nbformat_minor": 4
}
