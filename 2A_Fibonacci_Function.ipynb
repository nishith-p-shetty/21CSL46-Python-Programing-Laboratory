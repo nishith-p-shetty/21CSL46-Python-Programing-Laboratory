{
 "cells": [
  {
   "cell_type": "markdown",
   "id": "59d96d61-d9eb-4fc1-9951-1555f338c3bd",
   "metadata": {},
   "source": [
    "# Defined as a function F as Fn = Fn-1 + Fn-2. Write a Python program which accepts a value for N (where N >0) as input and pass this value to the function. Display suitable error message if the condition for input value is not followed."
   ]
  },
  {
   "cell_type": "code",
   "execution_count": 2,
   "id": "af25fce3-a1c7-4233-81cf-4ba3c1a4f835",
   "metadata": {
    "tags": []
   },
   "outputs": [
    {
     "name": "stdin",
     "output_type": "stream",
     "text": [
      "Enter a number :  8\n"
     ]
    },
    {
     "name": "stdout",
     "output_type": "stream",
     "text": [
      "The 8 fibonacci numbers are :\n",
      "0\n",
      "1\n",
      "1\n",
      "2\n",
      "3\n",
      "5\n",
      "8\n",
      "13\n"
     ]
    }
   ],
   "source": [
    "def F(n):\n",
    "    if (n < 0):\n",
    "        print(f'The value of n is expected to be greater than 0')\n",
    "    else:\n",
    "        n1 = 0\n",
    "        n2 = 1\n",
    "        print(f'The {n} fibonacci numbers are :')\n",
    "        for i in range(n):\n",
    "            print(n1)\n",
    "            temp = n1 + n2\n",
    "            n1 = n2\n",
    "            n2 = temp\n",
    "\n",
    "n = int(input('Enter a number : '))\n",
    "F(n)"
   ]
  }
 ],
 "metadata": {
  "kernelspec": {
   "display_name": "Python 3 (ipykernel)",
   "language": "python",
   "name": "python3"
  },
  "language_info": {
   "codemirror_mode": {
    "name": "ipython",
    "version": 3
   },
   "file_extension": ".py",
   "mimetype": "text/x-python",
   "name": "python",
   "nbconvert_exporter": "python",
   "pygments_lexer": "ipython3",
   "version": "3.11.2"
  }
 },
 "nbformat": 4,
 "nbformat_minor": 5
}
