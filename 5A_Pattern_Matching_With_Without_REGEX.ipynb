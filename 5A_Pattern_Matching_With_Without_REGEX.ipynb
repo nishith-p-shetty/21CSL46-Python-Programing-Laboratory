{
 "cells": [
  {
   "cell_type": "markdown",
   "metadata": {},
   "source": [
    "# Write a function called isphonenumber () to recognize a pattern 415-555-4242 without using regular expression and also write the code to recognize the same pattern using regular expression."
   ]
  },
  {
   "cell_type": "code",
   "execution_count": 1,
   "metadata": {
    "tags": []
   },
   "outputs": [
    {
     "name": "stdin",
     "output_type": "stream",
     "text": [
      "Enter a phone number to be tested without regex :  123-456-7890\n"
     ]
    },
    {
     "name": "stdout",
     "output_type": "stream",
     "text": [
      "Valid Phone Number\n"
     ]
    },
    {
     "name": "stdin",
     "output_type": "stream",
     "text": [
      "Enter a phone number to be tested with regex :  123-45-6789\n"
     ]
    },
    {
     "name": "stdout",
     "output_type": "stream",
     "text": [
      "Invalid Phone Number\n"
     ]
    }
   ],
   "source": [
    "import re\n",
    "\n",
    "def isphonenumber(text):\n",
    "    if len(text) != 12:\n",
    "        return False\n",
    "    for i in range(3):\n",
    "        if not text[i].isdecimal():\n",
    "            return False\n",
    "    if text[3] != '-':\n",
    "        return False\n",
    "    for i in range(4, 7):\n",
    "        if not text[i].isdecimal():\n",
    "            return False\n",
    "    if text[7] != '-':\n",
    "        return False\n",
    "    for i in range(8, 12):\n",
    "        if not text[i].isdecimal():\n",
    "            return False\n",
    "    return True\n",
    "\n",
    "def isphonenumber_re(text):\n",
    "    pattern = r\"\\d{3}-\\d{3}-\\d{4}\"\n",
    "    match = re.match(pattern, text)\n",
    "    return match is not None\n",
    "\n",
    "phno = input(\"Enter a phone number to be tested without regex : \")\n",
    "if isphonenumber(phno):\n",
    "    print(\"Valid Phone Number\")\n",
    "else:\n",
    "    print(\"Invalid Phone Number\")\n",
    "phno = input(\"Enter a phone number to be tested with regex : \")\n",
    "if isphonenumber(phno):\n",
    "    print(\"Valid Phone Number\")\n",
    "else:\n",
    "    print(\"Invalid Phone Number\")"
   ]
  }
 ],
 "metadata": {
  "kernelspec": {
   "display_name": "Python 3 (ipykernel)",
   "language": "python",
   "name": "python3"
  },
  "language_info": {
   "codemirror_mode": {
    "name": "ipython",
    "version": 3
   },
   "file_extension": ".py",
   "mimetype": "text/x-python",
   "name": "python",
   "nbconvert_exporter": "python",
   "pygments_lexer": "ipython3",
   "version": "3.11.2"
  }
 },
 "nbformat": 4,
 "nbformat_minor": 4
}
