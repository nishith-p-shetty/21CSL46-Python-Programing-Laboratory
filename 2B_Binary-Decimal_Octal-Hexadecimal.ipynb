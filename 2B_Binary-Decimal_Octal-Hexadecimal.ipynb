{
 "cells": [
  {
   "cell_type": "markdown",
   "id": "cea8a255-f168-4a51-a302-e26c084cc033",
   "metadata": {},
   "source": [
    "# Develop a python program to convert binary to decimal, octal to hexadecimal using functions."
   ]
  },
  {
   "cell_type": "code",
   "execution_count": 1,
   "id": "3779cec6-3043-461f-92b8-c06b171c11d7",
   "metadata": {},
   "outputs": [
    {
     "name": "stdin",
     "output_type": "stream",
     "text": [
      "Enter a binary number :  1010\n",
      "Enter a octal number :  7001\n"
     ]
    },
    {
     "name": "stdout",
     "output_type": "stream",
     "text": [
      "The decimal equivalent of 1010 is : 10\n",
      "The hexadecimal equivalent of 7001 is : 3585\n"
     ]
    }
   ],
   "source": [
    "def binary_to_decimal(binary):\n",
    "    decimal = 0\n",
    "    power = 0\n",
    "    while binary != 0:\n",
    "        last_digit = binary % 10\n",
    "        decimal += last_digit * (2 ** power)\n",
    "        binary //= 10\n",
    "        power += 1\n",
    "    return decimal\n",
    "\n",
    "def octal_to_hexadecimal(octal):\n",
    "    hexadecimal = 0\n",
    "    power = 0\n",
    "    while octal != 0:\n",
    "        last_digit = octal % 10\n",
    "        hexadecimal += last_digit * (8 ** power)\n",
    "        octal //= 10\n",
    "        power += 1\n",
    "    return hexadecimal\n",
    "\n",
    "binary = int(input('Enter a binary number : '))\n",
    "octal = int(input('Enter a octal number : '))\n",
    "\n",
    "decimal = binary_to_decimal(binary)\n",
    "hexadecimal = octal_to_hexadecimal(octal)\n",
    "\n",
    "print(f'The decimal equivalent of {binary} is : {decimal}')\n",
    "print(f'The hexadecimal equivalent of {octal} is : {hexadecimal}')"
   ]
  }
 ],
 "metadata": {
  "kernelspec": {
   "display_name": "Python 3 (ipykernel)",
   "language": "python",
   "name": "python3"
  },
  "language_info": {
   "codemirror_mode": {
    "name": "ipython",
    "version": 3
   },
   "file_extension": ".py",
   "mimetype": "text/x-python",
   "name": "python",
   "nbconvert_exporter": "python",
   "pygments_lexer": "ipython3",
   "version": "3.11.2"
  }
 },
 "nbformat": 4,
 "nbformat_minor": 5
}
