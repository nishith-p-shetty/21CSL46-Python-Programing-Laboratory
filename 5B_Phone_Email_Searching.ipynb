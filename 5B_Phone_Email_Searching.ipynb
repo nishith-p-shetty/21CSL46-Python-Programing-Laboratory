{
 "cells": [
  {
   "cell_type": "markdown",
   "id": "e3f7fe99-2cfe-47fa-ba59-b04759898095",
   "metadata": {},
   "source": [
    "# Develop a python program that could search the text in a file for phone numbers (+919900889977) and email addresses (sample@gmail.com)"
   ]
  },
  {
   "cell_type": "code",
   "execution_count": 2,
   "id": "179778e9-0830-4579-aa65-dd99f64bd319",
   "metadata": {},
   "outputs": [
    {
     "name": "stdout",
     "output_type": "stream",
     "text": [
      "+098765432187\n",
      "asd@fgh.jkl\n"
     ]
    }
   ],
   "source": [
    "import re\n",
    "\n",
    "# Define the regular expression for phone numbers\n",
    "phone_regex = re.compile(r'\\+\\d{12}')\n",
    "email_regex = re.compile(r'[A-Za-z0-9._]+@[A-Za-z0-9]+\\.[A-Z|a-z]{2,}')\n",
    "# Open the file for reading\n",
    "with open('example.txt', 'r') as f:\n",
    "    # Loop through each line in the file\n",
    "    for line in f:\n",
    "        # Search for phone numbers in the line\n",
    "        matches = phone_regex.findall(line)\n",
    "        # Print any matches found\n",
    "        for match in matches:\n",
    "            print(match)\n",
    "\n",
    "        matches = email_regex.findall(line)\n",
    "        # Print any matches found\n",
    "        for match in matches:\n",
    "            print(match) "
   ]
  }
 ],
 "metadata": {
  "kernelspec": {
   "display_name": "Python 3 (ipykernel)",
   "language": "python",
   "name": "python3"
  },
  "language_info": {
   "codemirror_mode": {
    "name": "ipython",
    "version": 3
   },
   "file_extension": ".py",
   "mimetype": "text/x-python",
   "name": "python",
   "nbconvert_exporter": "python",
   "pygments_lexer": "ipython3",
   "version": "3.11.2"
  }
 },
 "nbformat": 4,
 "nbformat_minor": 5
}
