{
 "cells": [
  {
   "cell_type": "markdown",
   "id": "cea8a255-f168-4a51-a302-e26c084cc033",
   "metadata": {},
   "source": [
    "# Develop a python program to convert binary to decimal, octal to hexadecimal using functions."
   ]
  },
  {
   "cell_type": "code",
   "execution_count": null,
   "id": "3779cec6-3043-461f-92b8-c06b171c11d7",
   "metadata": {},
   "outputs": [],
   "source": []
  }
 ],
 "metadata": {
  "kernelspec": {
   "display_name": "Python 3 (ipykernel)",
   "language": "python",
   "name": "python3"
  },
  "language_info": {
   "codemirror_mode": {
    "name": "ipython",
    "version": 3
   },
   "file_extension": ".py",
   "mimetype": "text/x-python",
   "name": "python",
   "nbconvert_exporter": "python",
   "pygments_lexer": "ipython3",
   "version": "3.11.2"
  }
 },
 "nbformat": 4,
 "nbformat_minor": 5
}
