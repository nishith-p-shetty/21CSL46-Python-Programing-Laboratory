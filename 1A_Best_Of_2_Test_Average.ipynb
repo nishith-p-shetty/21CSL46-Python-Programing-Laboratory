{
 "cells": [
  {
   "cell_type": "markdown",
   "id": "e3d39433-b710-424d-9391-04b99982b636",
   "metadata": {},
   "source": [
    "# Write a python program to find the best of two test average marks out of three test’s marks accepted from the user."
   ]
  },
  {
   "cell_type": "code",
   "execution_count": 7,
   "id": "7e8fccd2-f7c1-4075-a96c-53bf4b58bdb5",
   "metadata": {
    "tags": []
   },
   "outputs": [
    {
     "name": "stdin",
     "output_type": "stream",
     "text": [
      "Enter marks of test 1 :  18\n",
      "Enter marks of test 2 :  15\n",
      "Enter marks of test 3 :  19\n"
     ]
    },
    {
     "name": "stdout",
     "output_type": "stream",
     "text": [
      "18.5\n"
     ]
    }
   ],
   "source": [
    "a = int(input('Enter marks of test 1 : '))\n",
    "b = int(input('Enter marks of test 2 : '))\n",
    "c = int(input('Enter marks of test 3 : '))\n",
    "\n",
    "if (a > b) and (a > c):\n",
    "    if (b > c):\n",
    "        print( (a + b) / 2 )\n",
    "    else:\n",
    "        print( (a + c) / 2 )\n",
    "elif (b > a) and (b > c):\n",
    "    if (a > c):\n",
    "        print( (a + b) / 2 )\n",
    "    else:\n",
    "        print( (b + c) / 2 )\n",
    "else:\n",
    "    if (a > b):\n",
    "        print( (a + c) / 2 )\n",
    "    else:\n",
    "        print( (b + c) / 2 )"
   ]
  }
 ],
 "metadata": {
  "kernelspec": {
   "display_name": "Python 3 (ipykernel)",
   "language": "python",
   "name": "python3"
  },
  "language_info": {
   "codemirror_mode": {
    "name": "ipython",
    "version": 3
   },
   "file_extension": ".py",
   "mimetype": "text/x-python",
   "name": "python",
   "nbconvert_exporter": "python",
   "pygments_lexer": "ipython3",
   "version": "3.11.2"
  }
 },
 "nbformat": 4,
 "nbformat_minor": 5
}
