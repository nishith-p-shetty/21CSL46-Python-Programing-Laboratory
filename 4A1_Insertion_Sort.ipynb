{
 "cells": [
  {
   "cell_type": "markdown",
   "metadata": {},
   "source": [
    "# Write a python program to implement insertion sort using lists"
   ]
  },
  {
   "cell_type": "code",
   "execution_count": 1,
   "metadata": {
    "tags": []
   },
   "outputs": [
    {
     "name": "stdout",
     "output_type": "stream",
     "text": [
      "The given list to do insertin sort on is : [12, 11, 13, 5, 6]\n",
      "Sorted array : [5, 6, 11, 12, 13]\n"
     ]
    }
   ],
   "source": [
    "def insertion_sort(lst):\n",
    "    n = len(lst)\n",
    "    if n <= 1:\n",
    "        return\n",
    "    for i in range (1,n):\n",
    "        key = lst[i]\n",
    "        j = i - 1\n",
    "        while j >=0 and lst[j] > key:\n",
    "            lst[j+1] = lst[j]\n",
    "            j -= 1\n",
    "        lst[j + 1] = key\n",
    "lst = [12, 11, 13, 5, 6]\n",
    "print(f\"The given list to do insertin sort on is : {lst}\")\n",
    "insertion_sort(lst)\n",
    "print(f\"Sorted array : {lst}\")"
   ]
  }
 ],
 "metadata": {
  "kernelspec": {
   "display_name": "Python 3 (ipykernel)",
   "language": "python",
   "name": "python3"
  },
  "language_info": {
   "codemirror_mode": {
    "name": "ipython",
    "version": 3
   },
   "file_extension": ".py",
   "mimetype": "text/x-python",
   "name": "python",
   "nbconvert_exporter": "python",
   "pygments_lexer": "ipython3",
   "version": "3.11.2"
  }
 },
 "nbformat": 4,
 "nbformat_minor": 4
}
