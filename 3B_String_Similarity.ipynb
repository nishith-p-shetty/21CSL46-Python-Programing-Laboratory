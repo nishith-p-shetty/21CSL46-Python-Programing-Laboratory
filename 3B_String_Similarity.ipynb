{
 "cells": [
  {
   "cell_type": "markdown",
   "metadata": {},
   "source": [
    "# Write a Python program to find the string similarity between two given strings"
   ]
  },
  {
   "cell_type": "code",
   "execution_count": 1,
   "metadata": {
    "tags": []
   },
   "outputs": [
    {
     "name": "stdin",
     "output_type": "stream",
     "text": [
      "Enter String 1 :  Malayalam\n",
      "Enter String 2 :  Malaya\n"
     ]
    },
    {
     "name": "stdout",
     "output_type": "stream",
     "text": [
      "Similarity between 2 strings : 66.66666666666667\n"
     ]
    }
   ],
   "source": [
    "string1 = input(\"Enter String 1 : \")\n",
    "string2 = input(\"Enter String 2 : \")\n",
    "match_count = 0\n",
    "if len(string2) <  len(string1):\n",
    "    short = len(string2)\n",
    "    long = len(string1)\n",
    "else:\n",
    "    short = len(string1)\n",
    "    long = len(string2)\n",
    "for i in range(short):\n",
    "    if string1[i] == string2[i]:\n",
    "        match_count += 1\n",
    "print(\"Similarity between 2 strings :\", (match_count * 100 / long))"
   ]
  }
 ],
 "metadata": {
  "kernelspec": {
   "display_name": "Python 3 (ipykernel)",
   "language": "python",
   "name": "python3"
  },
  "language_info": {
   "codemirror_mode": {
    "name": "ipython",
    "version": 3
   },
   "file_extension": ".py",
   "mimetype": "text/x-python",
   "name": "python",
   "nbconvert_exporter": "python",
   "pygments_lexer": "ipython3",
   "version": "3.11.2"
  }
 },
 "nbformat": 4,
 "nbformat_minor": 4
}
