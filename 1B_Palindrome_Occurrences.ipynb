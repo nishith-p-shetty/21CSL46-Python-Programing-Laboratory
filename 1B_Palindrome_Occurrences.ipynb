{
 "cells": [
  {
   "cell_type": "markdown",
   "id": "54432846-aae2-45c9-9b1f-a179e68e688f",
   "metadata": {},
   "source": [
    "# Develop a Python program to check whether a given number is palindrome or not and also count the number of occurrences of each digit in the input number."
   ]
  },
  {
   "cell_type": "code",
   "execution_count": 3,
   "id": "a6c6d4ec-2ec1-4408-8650-2ef99a2addd1",
   "metadata": {
    "tags": []
   },
   "outputs": [
    {
     "name": "stdin",
     "output_type": "stream",
     "text": [
      "Enter a number :  1234567890987654321\n"
     ]
    },
    {
     "name": "stdout",
     "output_type": "stream",
     "text": [
      "1234567890987654321 is a palindrome\n",
      "Occurrences : \n",
      "0 = 1\n",
      "1 = 2\n",
      "2 = 2\n",
      "3 = 2\n",
      "4 = 2\n",
      "5 = 2\n",
      "6 = 2\n",
      "7 = 2\n",
      "8 = 2\n",
      "9 = 2\n"
     ]
    }
   ],
   "source": [
    "n = int(input('Enter a number : '))\n",
    "\n",
    "c0, c1, c2, c3, c4, c5, c6, c7, c8, c9 = 0, 0, 0, 0, 0, 0, 0, 0, 0, 0\n",
    "\n",
    "x = n\n",
    "reverse = 0\n",
    "\n",
    "while ( x != 0 ):\n",
    "    remainder = x % 10\n",
    "    reverse = (reverse * 10) + remainder\n",
    "    x//=10\n",
    "    if remainder == 0 :\n",
    "        c0+=1\n",
    "    elif remainder == 1:\n",
    "        c1+=1\n",
    "    elif remainder == 2:\n",
    "        c2+=1\n",
    "    elif remainder == 3:\n",
    "        c3+=1\n",
    "    elif remainder == 4:\n",
    "        c4+=1\n",
    "    elif remainder == 5:\n",
    "        c5+=1\n",
    "    elif remainder == 6:\n",
    "        c6+=1\n",
    "    elif remainder == 7:\n",
    "        c7+=1\n",
    "    elif remainder == 8:\n",
    "        c8+=1\n",
    "    else:\n",
    "        c9+=1\n",
    "    \n",
    "if ( reverse == n ):\n",
    "    print(f'{n} is a palindrome')\n",
    "    print(f'Occurrences : \\n0 = {c0}\\n1 = {c1}\\n2 = {c2}\\n3 = {c3}\\n4 = {c4}\\n5 = {c5}\\n6 = {c6}\\n7 = {c7}\\n8 = {c8}\\n9 = {c9}', )\n",
    "else:\n",
    "    print(f'{n} is not a palindrome')"
   ]
  }
 ],
 "metadata": {
  "kernelspec": {
   "display_name": "Python 3 (ipykernel)",
   "language": "python",
   "name": "python3"
  },
  "language_info": {
   "codemirror_mode": {
    "name": "ipython",
    "version": 3
   },
   "file_extension": ".py",
   "mimetype": "text/x-python",
   "name": "python",
   "nbconvert_exporter": "python",
   "pygments_lexer": "ipython3",
   "version": "3.11.2"
  }
 },
 "nbformat": 4,
 "nbformat_minor": 5
}
