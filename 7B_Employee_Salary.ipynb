{
 "cells": [
  {
   "cell_type": "markdown",
   "metadata": {},
   "source": [
    "# Write a python program by creating a class called Employee to store the details of Name, Employee_ID, Department and Salary, and implement a method to update salary of employees belonging to a given department."
   ]
  },
  {
   "cell_type": "code",
   "execution_count": 1,
   "metadata": {
    "tags": []
   },
   "outputs": [
    {
     "name": "stdin",
     "output_type": "stream",
     "text": [
      "Enter Employee name :  Abc\n",
      "Enter Employee ID :  456\n",
      "Enter Employee Dept :  AIML\n",
      "Enter Employee Salary :  10000\n"
     ]
    },
    {
     "name": "stdout",
     "output_type": "stream",
     "text": [
      "Employee Details\n",
      "Name :  Abc\n",
      "ID :  456\n",
      "Dept :  AIML\n",
      "Salary :  10000\n"
     ]
    },
    {
     "name": "stdin",
     "output_type": "stream",
     "text": [
      "Enter new Salary :  20000\n"
     ]
    },
    {
     "name": "stdout",
     "output_type": "stream",
     "text": [
      "Updated Salary 20000\n"
     ]
    }
   ],
   "source": [
    "class Employee:\n",
    "    def __init__(self):\n",
    "        self.name = \"\"\n",
    "        self.empId = \"\"\n",
    "        self.dept = \"\"\n",
    "        self.salary = 0\n",
    "        \n",
    "    def getEmpDetails(self):\n",
    "        self.name = input(\"Enter Employee name : \")\n",
    "        self.empId = input(\"Enter Employee ID : \")\n",
    "        self.dept = input(\"Enter Employee Dept : \")\n",
    "        self.salary = int(input(\"Enter Employee Salary : \"))\n",
    "        \n",
    "    def showEmpDetails(self):\n",
    "        print(\"Employee Details\")\n",
    "        print(\"Name : \", self.name)\n",
    "        print(\"ID : \", self.empId)\n",
    "        print(\"Dept : \", self.dept)\n",
    "        print(\"Salary : \", self.salary)\n",
    "        \n",
    "    def updtSalary(self):\n",
    "        self.salary = int(input(\"Enter new Salary : \"))\n",
    "        print(\"Updated Salary\", self.salary)\n",
    "        \n",
    "\n",
    "e1 = Employee()\n",
    "e1.getEmpDetails()\n",
    "e1.showEmpDetails()\n",
    "e1.updtSalary()"
   ]
  }
 ],
 "metadata": {
  "kernelspec": {
   "display_name": "Python 3 (ipykernel)",
   "language": "python",
   "name": "python3"
  },
  "language_info": {
   "codemirror_mode": {
    "name": "ipython",
    "version": 3
   },
   "file_extension": ".py",
   "mimetype": "text/x-python",
   "name": "python",
   "nbconvert_exporter": "python",
   "pygments_lexer": "ipython3",
   "version": "3.11.2"
  }
 },
 "nbformat": 4,
 "nbformat_minor": 4
}
