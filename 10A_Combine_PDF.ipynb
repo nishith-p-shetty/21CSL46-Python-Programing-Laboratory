{
 "cells": [
  {
   "cell_type": "markdown",
   "metadata": {},
   "source": [
    "# Write a python program to combine select pages from many PDFs"
   ]
  },
  {
   "cell_type": "code",
   "execution_count": 2,
   "metadata": {
    "tags": []
   },
   "outputs": [
    {
     "name": "stdin",
     "output_type": "stream",
     "text": [
      "Enter page number you want combine from multiple documents  2\n"
     ]
    }
   ],
   "source": [
    "from PyPDF2 import PdfWriter, PdfReader\n",
    "\n",
    "num = int(input(\"Enter page number you want combine from multiple documents \"))\n",
    "\n",
    "pdf1 = open('birds.pdf', 'rb')\n",
    "pdf2 = open('birdspic.pdf', 'rb')\n",
    "\n",
    "pdf_writer = PdfWriter()\n",
    "\n",
    "pdf1_reader = PdfReader(pdf1)    \n",
    "page = pdf1_reader.pages[num - 1]\n",
    "pdf_writer.add_page(page)\n",
    "\n",
    "pdf2_reader = PdfReader(pdf2)    \n",
    "page = pdf2_reader.pages[num - 1]\n",
    "pdf_writer.add_page(page)\n",
    "\n",
    "with open('output.pdf', 'wb') as output:\n",
    "    pdf_writer.write(output)"
   ]
  }
 ],
 "metadata": {
  "kernelspec": {
   "display_name": "Python 3 (ipykernel)",
   "language": "python",
   "name": "python3"
  },
  "language_info": {
   "codemirror_mode": {
    "name": "ipython",
    "version": 3
   },
   "file_extension": ".py",
   "mimetype": "text/x-python",
   "name": "python",
   "nbconvert_exporter": "python",
   "pygments_lexer": "ipython3",
   "version": "3.11.2"
  }
 },
 "nbformat": 4,
 "nbformat_minor": 4
}
