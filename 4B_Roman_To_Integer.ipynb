{
 "cells": [
  {
   "cell_type": "markdown",
   "metadata": {},
   "source": [
    "# Write a program to convert roman numbers in to integer values using dictionaries."
   ]
  },
  {
   "cell_type": "code",
   "execution_count": 1,
   "metadata": {},
   "outputs": [
    {
     "name": "stdout",
     "output_type": "stream",
     "text": [
      "104\n"
     ]
    }
   ],
   "source": [
    "def Roman_To_Integer(s):\n",
    "    roman = {'I': 1, 'V': 5, 'X' : 10, 'L': 50,'C': 100, 'D': 500, 'M': 1000}\n",
    "    integer = 0\n",
    "    for i in range(len(s)):\n",
    "        if (i > 0 ) and roman[s[i]] > roman[s[i-1]]:\n",
    "            integer += roman[s[i]] - 2 * roman[s[i-1]]\n",
    "        else:\n",
    "            integer += roman[s[i]]\n",
    "    return integer\n",
    "print(Roman_To_Integer(\"CIV\"))"
   ]
  }
 ],
 "metadata": {
  "kernelspec": {
   "display_name": "Python 3 (ipykernel)",
   "language": "python",
   "name": "python3"
  },
  "language_info": {
   "codemirror_mode": {
    "name": "ipython",
    "version": 3
   },
   "file_extension": ".py",
   "mimetype": "text/x-python",
   "name": "python",
   "nbconvert_exporter": "python",
   "pygments_lexer": "ipython3",
   "version": "3.11.2"
  },
  "orig_nbformat": 4
 },
 "nbformat": 4,
 "nbformat_minor": 2
}
