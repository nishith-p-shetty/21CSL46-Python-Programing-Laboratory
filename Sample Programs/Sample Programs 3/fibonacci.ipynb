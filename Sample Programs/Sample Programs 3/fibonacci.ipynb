{
 "cells": [
  {
   "cell_type": "markdown",
   "id": "ccfee033-988f-4cab-be30-f44bc18fb96a",
   "metadata": {},
   "source": [
    "# Write a program to print fibonacci series upto given range"
   ]
  },
  {
   "cell_type": "code",
   "execution_count": 1,
   "id": "56323c68-6f5e-4f84-bb28-5e7d6be071b6",
   "metadata": {
    "tags": []
   },
   "outputs": [
    {
     "name": "stdin",
     "output_type": "stream",
     "text": [
      "Enter a number :  9\n"
     ]
    },
    {
     "name": "stdout",
     "output_type": "stream",
     "text": [
      "0\n",
      "1\n",
      "1\n",
      "2\n",
      "3\n",
      "5\n",
      "8\n",
      "13\n",
      "21\n"
     ]
    }
   ],
   "source": [
    "n = int(input('Enter a number : '))\n",
    "\n",
    "n1 = 0\n",
    "n2 = 1\n",
    "\n",
    "for i in range(n):\n",
    "    print(n1)\n",
    "    nextno = n1 + n2\n",
    "    n1 = n2\n",
    "    n2 = nextno"
   ]
  }
 ],
 "metadata": {
  "kernelspec": {
   "display_name": "Python 3 (ipykernel)",
   "language": "python",
   "name": "python3"
  },
  "language_info": {
   "codemirror_mode": {
    "name": "ipython",
    "version": 3
   },
   "file_extension": ".py",
   "mimetype": "text/x-python",
   "name": "python",
   "nbconvert_exporter": "python",
   "pygments_lexer": "ipython3",
   "version": "3.11.2"
  }
 },
 "nbformat": 4,
 "nbformat_minor": 5
}
