{
 "cells": [
  {
   "cell_type": "markdown",
   "id": "7a1f37a2-3b37-4fad-8be6-aa3d5d2673de",
   "metadata": {},
   "source": [
    "# Write a program to find the sum of natural no between the given range, include both ne limits"
   ]
  },
  {
   "cell_type": "code",
   "execution_count": 2,
   "id": "37f02582-70e2-48da-a72b-6ffbef49314a",
   "metadata": {
    "tags": []
   },
   "outputs": [
    {
     "name": "stdin",
     "output_type": "stream",
     "text": [
      "Enter the start limit :  1\n",
      "Enter the end limit :  20\n"
     ]
    },
    {
     "name": "stdout",
     "output_type": "stream",
     "text": [
      "Sum of numbers from 1 to 20 is : 210\n"
     ]
    }
   ],
   "source": [
    "a = int(input('Enter the start limit : '))\n",
    "b = int(input('Enter the end limit : '))\n",
    "\n",
    "sum = 0\n",
    "\n",
    "for i in range(a, b+1):\n",
    "    sum += i\n",
    "\n",
    "print(f'Sum of numbers from {a} to {b} is : {sum}')"
   ]
  }
 ],
 "metadata": {
  "kernelspec": {
   "display_name": "Python 3 (ipykernel)",
   "language": "python",
   "name": "python3"
  },
  "language_info": {
   "codemirror_mode": {
    "name": "ipython",
    "version": 3
   },
   "file_extension": ".py",
   "mimetype": "text/x-python",
   "name": "python",
   "nbconvert_exporter": "python",
   "pygments_lexer": "ipython3",
   "version": "3.11.2"
  }
 },
 "nbformat": 4,
 "nbformat_minor": 5
}
