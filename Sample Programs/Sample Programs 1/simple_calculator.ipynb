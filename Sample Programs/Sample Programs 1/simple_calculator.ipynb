{
 "cells": [
  {
   "cell_type": "code",
   "execution_count": 2,
   "id": "7511f383-3092-4cb2-80ae-f9ab8e7d23e1",
   "metadata": {
    "tags": []
   },
   "outputs": [
    {
     "name": "stdin",
     "output_type": "stream",
     "text": [
      "Enter the value of a :  98\n",
      "Enter the value of b :  35\n"
     ]
    },
    {
     "name": "stdout",
     "output_type": "stream",
     "text": [
      "Sum        :  98 + 35 = 133\n",
      "Difference :  98 - 35 = 63\n",
      "Product    :  98 * 35 = 3430\n",
      "Quotient   :  98 / 35 = 2.8\n",
      "Remainder  :  98 % 35 = 28\n"
     ]
    }
   ],
   "source": [
    "a = int(input('Enter the value of a : '))\n",
    "b = int(input('Enter the value of b : '))\n",
    "\n",
    "c = a + b\n",
    "d = a - b\n",
    "e = a * b\n",
    "f = a / b\n",
    "g = a % b\n",
    "\n",
    "print(f'Sum        :  {a} + {b} = {c}')\n",
    "print(f'Difference :  {a} - {b} = {d}')\n",
    "print(f'Product    :  {a} * {b} = {e}')\n",
    "print(f'Quotient   :  {a} / {b} = {f}')\n",
    "print(f'Remainder  :  {a} % {b} = {g}')"
   ]
  }
 ],
 "metadata": {
  "kernelspec": {
   "display_name": "Python 3 (ipykernel)",
   "language": "python",
   "name": "python3"
  },
  "language_info": {
   "codemirror_mode": {
    "name": "ipython",
    "version": 3
   },
   "file_extension": ".py",
   "mimetype": "text/x-python",
   "name": "python",
   "nbconvert_exporter": "python",
   "pygments_lexer": "ipython3",
   "version": "3.11.2"
  }
 },
 "nbformat": 4,
 "nbformat_minor": 5
}
