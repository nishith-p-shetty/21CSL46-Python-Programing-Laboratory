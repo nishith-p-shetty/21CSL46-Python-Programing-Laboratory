{
 "cells": [
  {
   "cell_type": "markdown",
   "id": "3f330ec9-4467-43d5-81ad-19d216f85e97",
   "metadata": {},
   "source": [
    "# Demonstrate python program to read the data from the spreadsheet and write the data in to the spreadsheet"
   ]
  },
  {
   "cell_type": "code",
   "execution_count": 1,
   "id": "095469b3-2509-4a3e-9587-7ceb68509e24",
   "metadata": {
    "tags": []
   },
   "outputs": [
    {
     "name": "stdin",
     "output_type": "stream",
     "text": [
      "Enter state code for finding capital  KA\n"
     ]
    },
    {
     "name": "stdout",
     "output_type": "stream",
     "text": [
      "Corresponding capital for code KA is Bengaluru\n"
     ]
    },
    {
     "name": "stdin",
     "output_type": "stream",
     "text": [
      "Enter state code for finding language  TS\n"
     ]
    },
    {
     "name": "stdout",
     "output_type": "stream",
     "text": [
      "Corresponding language for code TS is Telugu\n"
     ]
    }
   ],
   "source": [
    "from openpyxl import Workbook \n",
    "from openpyxl.styles import Font\n",
    "\n",
    "wb = Workbook() \n",
    "sheet = wb.active\n",
    "sheet.title = \"Language\"\n",
    "wb.create_sheet(title = \"Capital\")\n",
    "\n",
    "lang = [\"Kannada\", \"Telugu\", \"Tamil\"]\n",
    "state = [\"Karnataka\", \"Telangana\", \"Tamil Nadu\"]\n",
    "capital = [\"Bengaluru\", \"Hyderabad\", \"Chennai\"]\n",
    "code =['KA', 'TS', 'TN']\n",
    "\n",
    "sheet.cell(row = 1, column = 1).value = \"State\"\n",
    "sheet.cell(row = 1, column = 2).value = \"Language\"\n",
    "sheet.cell(row = 1, column = 3).value = \"Code\"\n",
    "\n",
    "\n",
    "ft = Font(bold=True)\n",
    "for row in sheet[\"A1:C1\"]:\n",
    "    for cell in row:\n",
    "        cell.font = ft\n",
    "        \n",
    "for i in range(2,5):\n",
    "    sheet.cell(row = i, column = 1).value = state[i-2]\n",
    "    sheet.cell(row = i, column = 2).value = lang[i-2]\n",
    "    sheet.cell(row = i, column = 3).value = code[i-2]\n",
    "    \n",
    "wb.save(\"demo.xlsx\")\n",
    "\n",
    "\n",
    "sheet = wb[\"Capital\"]\n",
    "\n",
    "sheet.cell(row = 1, column = 1).value = \"State\"\n",
    "sheet.cell(row = 1, column = 2).value = \"Capital\"\n",
    "sheet.cell(row = 1, column = 3).value = \"Code\"\n",
    "\n",
    "ft = Font(bold=True)\n",
    "for row in sheet[\"A1:C1\"]:\n",
    "    for cell in row:\n",
    "        cell.font = ft\n",
    "        \n",
    "for i in range(2,5):\n",
    "    sheet.cell(row = i, column = 1).value = state[i-2]\n",
    "    sheet.cell(row = i, column = 2).value = capital[i-2]\n",
    "    sheet.cell(row = i, column = 3).value = code[i-2]\n",
    "    \n",
    "wb.save(\"demo.xlsx\")\n",
    "\n",
    "srchCode = input(\"Enter state code for finding capital \")\n",
    "for i in range(2,5):\n",
    "    data = sheet.cell(row = i, column = 3).value\n",
    "    if data == srchCode:\n",
    "        print(\"Corresponding capital for code\", srchCode, \"is\", sheet.cell(row = i, column = 2).value)\n",
    "        \n",
    "\n",
    "sheet = wb[\"Language\"]\n",
    "\n",
    "srchCode = input(\"Enter state code for finding language \")\n",
    "for i in range(2,5):\n",
    "    data = sheet.cell(row = i, column = 3).value\n",
    "    if data == srchCode:\n",
    "        print(\"Corresponding language for code\", srchCode, \"is\", sheet.cell(row = i, column = 2).value)\n",
    "\n",
    "wb.close()"
   ]
  }
 ],
 "metadata": {
  "kernelspec": {
   "display_name": "Python 3 (ipykernel)",
   "language": "python",
   "name": "python3"
  },
  "language_info": {
   "codemirror_mode": {
    "name": "ipython",
    "version": 3
   },
   "file_extension": ".py",
   "mimetype": "text/x-python",
   "name": "python",
   "nbconvert_exporter": "python",
   "pygments_lexer": "ipython3",
   "version": "3.11.2"
  }
 },
 "nbformat": 4,
 "nbformat_minor": 5
}
